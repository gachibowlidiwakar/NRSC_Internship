{
 "cells": [
  {
   "cell_type": "code",
   "execution_count": 12,
   "id": "0d922422-1680-4c07-8656-42c38422fa5f",
   "metadata": {},
   "outputs": [],
   "source": [
    "import os\n",
    "from glob import glob\n",
    "import pandas as pd\n",
    "import numpy as np\n",
    "from numpy import expand_dims\n",
    "import matplotlib.pyplot as plt\n",
    "import matplotlib.image as mpimg\n",
    "import seaborn as sn\n",
    "from skimage.transform import resize\n",
    "from skimage.color import gray2rgb\n",
    "from sklearn.metrics import classification_report, confusion_matrix\n",
    "from IPython.display import SVG\n",
    "from tensorflow import keras\n",
    "from tensorflow.keras import applications, optimizers\n",
    "from tensorflow.keras.models import Model, Sequential, load_model\n",
    "from tensorflow.keras.preprocessing.image import ImageDataGenerator, load_img, img_to_array\n",
    "from tensorflow.keras.layers import Dense, Flatten, Dropout\n",
    "from tensorflow.keras.applications.vgg16 import VGG16, preprocess_input\n",
    "from tensorflow.keras.utils import to_categorical, model_to_dot, plot_model\n",
    "from tensorflow.keras.callbacks import ModelCheckpoint, EarlyStopping, CSVLogger, ReduceLROnPlateau\n",
    "from tensorflow.keras import layers\n",
    "from tensorflow.keras.layers import Conv2D, Activation, add\n",
    "import tensorflow as tf"
   ]
  },
  {
   "cell_type": "code",
   "execution_count": 13,
   "id": "48c7d788-cef2-4419-84dc-64fa3e01884f",
   "metadata": {},
   "outputs": [
    {
     "name": "stdout",
     "output_type": "stream",
     "text": [
      "Found 19607 images belonging to 2 classes.\n",
      "Found 2178 images belonging to 2 classes.\n",
      "Found 2421 images belonging to 2 classes.\n"
     ]
    }
   ],
   "source": [
    "train_path ='land_dataset/train/'\n",
    "test_path = 'land_dataset/test/'\n",
    "train_batches = ImageDataGenerator(validation_split=0.1) \\\n",
    "                .flow_from_directory(directory=train_path,  \n",
    "                                     classes = ['land','not_land'], \n",
    "                                     subset='training',\n",
    "                                     batch_size=10)\n",
    "\n",
    "validation_batches = ImageDataGenerator(validation_split=0.1) \\\n",
    "                     .flow_from_directory(directory=train_path, \n",
    "                                          classes = ['land', 'not_land'], \n",
    "                                          subset='validation',\n",
    "                                          batch_size=10)\n",
    "                \n",
    "test_batches = ImageDataGenerator() \\\n",
    "                    .flow_from_directory(directory=test_path, \n",
    "                                        classes = ['land', 'not_land'], \n",
    "                                         batch_size=10, \n",
    "                                         shuffle=False)"
   ]
  },
  {
   "cell_type": "code",
   "execution_count": 14,
   "id": "4508026b-48a1-4304-be7e-aa6e4fe4f6a0",
   "metadata": {},
   "outputs": [],
   "source": [
    "IMG_SIZE = 100\n",
    "n_classes = 2\n",
    "\n",
    "inp = layers.Input(shape=(IMG_SIZE,IMG_SIZE,3))\n",
    "x1 = layers.Resizing(IMG_SIZE, IMG_SIZE)(inp)\n",
    "x2 = layers.Rescaling(1./255)(x1)\n",
    "x3 = layers.Conv2D(filters=32, kernel_size=(3, 3), activation='relu', \n",
    "                   padding = 'same', input_shape=(IMG_SIZE,IMG_SIZE,3))(x2)\n",
    "x5 = layers.BatchNormalization(axis=-1)(x3)\n",
    "x6 = layers.MaxPool2D(pool_size=(2, 2))(x5)\n",
    "x7 = layers.Conv2D(filters=64, kernel_size=(3, 3), \n",
    "                   activation='relu', padding = 'same')(x6)\n",
    "x9 = layers.BatchNormalization(axis=-1)(x7)\n",
    "x10 = layers.MaxPool2D(pool_size=(2, 2))(x9)\n",
    "\n",
    "x11 = layers.Conv2D(filters=128, kernel_size=(3, 3), \n",
    "                    activation='relu', padding = 'same')(x10)\n",
    "x13 = layers.BatchNormalization(axis=-1)(x11)\n",
    "x14 = layers.MaxPool2D(pool_size=(2, 2))(x13)\n",
    "x15 = layers.Conv2D(filters=256, kernel_size=(3, 3), \n",
    "                      activation='relu', padding = 'same')(x14)\n",
    "x17 = layers.BatchNormalization(axis=-1)(x15)\n",
    "x18 = layers.MaxPool2D(pool_size=(2, 2))(x17)\n",
    "y1 = layers.Flatten()(x18)\n",
    "y2 = layers.Dense(300, activation='relu')(y1)\n",
    "y3 = layers.Dense(150, activation='relu')(y2)\n",
    "y4 = layers.Dropout(0.25)(y3)\n",
    "y = layers.Dense(n_classes, activation='softmax')(y4)   \n",
    "\n",
    "model = keras.Model(inp,y)"
   ]
  },
  {
   "cell_type": "code",
   "execution_count": 15,
   "id": "b9654d8a-c753-4a91-8347-41fb6e8cb790",
   "metadata": {},
   "outputs": [
    {
     "name": "stderr",
     "output_type": "stream",
     "text": [
      "WARNING:absl:At this time, the v2.11+ optimizer `tf.keras.optimizers.Adam` runs slowly on M1/M2 Macs, please use the legacy Keras optimizer instead, located at `tf.keras.optimizers.legacy.Adam`.\n",
      "WARNING:absl:There is a known slowdown when using v2.11+ Keras optimizers on M1/M2 Macs. Falling back to the legacy Keras optimizer, i.e., `tf.keras.optimizers.legacy.Adam`.\n"
     ]
    },
    {
     "name": "stdout",
     "output_type": "stream",
     "text": [
      "Model: \"model_1\"\n",
      "_________________________________________________________________\n",
      " Layer (type)                Output Shape              Param #   \n",
      "=================================================================\n",
      " input_2 (InputLayer)        [(None, 100, 100, 3)]     0         \n",
      "                                                                 \n",
      " resizing_1 (Resizing)       (None, 100, 100, 3)       0         \n",
      "                                                                 \n",
      " rescaling_1 (Rescaling)     (None, 100, 100, 3)       0         \n",
      "                                                                 \n",
      " conv2d_4 (Conv2D)           (None, 100, 100, 32)      896       \n",
      "                                                                 \n",
      " batch_normalization_4 (Batc  (None, 100, 100, 32)     128       \n",
      " hNormalization)                                                 \n",
      "                                                                 \n",
      " max_pooling2d_4 (MaxPooling  (None, 50, 50, 32)       0         \n",
      " 2D)                                                             \n",
      "                                                                 \n",
      " conv2d_5 (Conv2D)           (None, 50, 50, 64)        18496     \n",
      "                                                                 \n",
      " batch_normalization_5 (Batc  (None, 50, 50, 64)       256       \n",
      " hNormalization)                                                 \n",
      "                                                                 \n",
      " max_pooling2d_5 (MaxPooling  (None, 25, 25, 64)       0         \n",
      " 2D)                                                             \n",
      "                                                                 \n",
      " conv2d_6 (Conv2D)           (None, 25, 25, 128)       73856     \n",
      "                                                                 \n",
      " batch_normalization_6 (Batc  (None, 25, 25, 128)      512       \n",
      " hNormalization)                                                 \n",
      "                                                                 \n",
      " max_pooling2d_6 (MaxPooling  (None, 12, 12, 128)      0         \n",
      " 2D)                                                             \n",
      "                                                                 \n",
      " conv2d_7 (Conv2D)           (None, 12, 12, 256)       295168    \n",
      "                                                                 \n",
      " batch_normalization_7 (Batc  (None, 12, 12, 256)      1024      \n",
      " hNormalization)                                                 \n",
      "                                                                 \n",
      " max_pooling2d_7 (MaxPooling  (None, 6, 6, 256)        0         \n",
      " 2D)                                                             \n",
      "                                                                 \n",
      " flatten_1 (Flatten)         (None, 9216)              0         \n",
      "                                                                 \n",
      " dense_3 (Dense)             (None, 300)               2765100   \n",
      "                                                                 \n",
      " dense_4 (Dense)             (None, 150)               45150     \n",
      "                                                                 \n",
      " dropout_1 (Dropout)         (None, 150)               0         \n",
      "                                                                 \n",
      " dense_5 (Dense)             (None, 2)                 302       \n",
      "                                                                 \n",
      "=================================================================\n",
      "Total params: 3,200,888\n",
      "Trainable params: 3,199,928\n",
      "Non-trainable params: 960\n",
      "_________________________________________________________________\n"
     ]
    }
   ],
   "source": [
    "EPOCHS = 10\n",
    "BATCH_SIZE = 8\n",
    "model.compile(optimizer=tf.keras.optimizers.Adam(learning_rate=0.0001), \n",
    "                  loss='categorical_crossentropy', \n",
    "                  metrics='accuracy')\n",
    "model.summary()"
   ]
  },
  {
   "cell_type": "code",
   "execution_count": 16,
   "id": "e12b1d31-5ad6-49bf-9173-14ebbfe96052",
   "metadata": {},
   "outputs": [
    {
     "name": "stdout",
     "output_type": "stream",
     "text": [
      "Epoch 1/5\n"
     ]
    },
    {
     "name": "stderr",
     "output_type": "stream",
     "text": [
      "2024-06-03 07:15:15.394058: I tensorflow/core/common_runtime/executor.cc:1197] [/device:CPU:0] (DEBUG INFO) Executor start aborting (this does not indicate an error and you can ignore this message): INVALID_ARGUMENT: You must feed a value for placeholder tensor 'Placeholder/_0' with dtype int32\n",
      "\t [[{{node Placeholder/_0}}]]\n"
     ]
    },
    {
     "name": "stdout",
     "output_type": "stream",
     "text": [
      "1961/1961 [==============================] - ETA: 0s - loss: 0.0580 - accuracy: 0.9859"
     ]
    },
    {
     "name": "stderr",
     "output_type": "stream",
     "text": [
      "2024-06-03 07:19:24.827466: I tensorflow/core/common_runtime/executor.cc:1197] [/device:CPU:0] (DEBUG INFO) Executor start aborting (this does not indicate an error and you can ignore this message): INVALID_ARGUMENT: You must feed a value for placeholder tensor 'Placeholder/_0' with dtype int32\n",
      "\t [[{{node Placeholder/_0}}]]\n"
     ]
    },
    {
     "name": "stdout",
     "output_type": "stream",
     "text": [
      "1961/1961 [==============================] - 258s 131ms/step - loss: 0.0580 - accuracy: 0.9859 - val_loss: 0.0399 - val_accuracy: 0.9894\n",
      "Epoch 2/5\n",
      "1961/1961 [==============================] - 250s 127ms/step - loss: 0.0330 - accuracy: 0.9917 - val_loss: 0.0331 - val_accuracy: 0.9867\n",
      "Epoch 3/5\n",
      "1961/1961 [==============================] - 258s 131ms/step - loss: 0.0354 - accuracy: 0.9919 - val_loss: 0.0235 - val_accuracy: 0.9908\n",
      "Epoch 4/5\n",
      "1961/1961 [==============================] - 230s 118ms/step - loss: 0.0207 - accuracy: 0.9941 - val_loss: 0.0283 - val_accuracy: 0.9899\n",
      "Epoch 5/5\n",
      "1961/1961 [==============================] - 237s 121ms/step - loss: 0.0203 - accuracy: 0.9954 - val_loss: 0.0313 - val_accuracy: 0.9917\n"
     ]
    }
   ],
   "source": [
    "history = model.fit(x=train_batches,\n",
    "                            validation_data=validation_batches,\n",
    "                            steps_per_epoch=len(train_batches),\n",
    "                            validation_steps=len(validation_batches),\n",
    "                            epochs=5,\n",
    "                            batch_size=BATCH_SIZE, \n",
    "                            verbose=1)"
   ]
  },
  {
   "cell_type": "code",
   "execution_count": 9,
   "id": "00b6a590-f6f3-482e-8991-bac4a0e86422",
   "metadata": {},
   "outputs": [],
   "source": [
    "model.save('land_model.h5')"
   ]
  },
  {
   "cell_type": "code",
   "execution_count": 10,
   "id": "38b86ca4-9051-4baa-9327-8ef3d944facf",
   "metadata": {},
   "outputs": [
    {
     "name": "stdout",
     "output_type": "stream",
     "text": [
      "  7/243 [..............................] - ETA: 5s - loss: 0.0000e+00 - accuracy: 1.0000"
     ]
    },
    {
     "name": "stderr",
     "output_type": "stream",
     "text": [
      "2024-06-03 06:18:42.529060: I tensorflow/core/common_runtime/executor.cc:1197] [/device:CPU:0] (DEBUG INFO) Executor start aborting (this does not indicate an error and you can ignore this message): INVALID_ARGUMENT: You must feed a value for placeholder tensor 'Placeholder/_0' with dtype int32\n",
      "\t [[{{node Placeholder/_0}}]]\n"
     ]
    },
    {
     "name": "stdout",
     "output_type": "stream",
     "text": [
      "243/243 [==============================] - 5s 21ms/step - loss: 0.0085 - accuracy: 0.9971\n"
     ]
    }
   ],
   "source": [
    "loss_and_metrics = model.evaluate(test_batches, batch_size=BATCH_SIZE, verbose=1)"
   ]
  },
  {
   "cell_type": "code",
   "execution_count": 11,
   "id": "ec6f1110-d918-495b-9f11-ddde6fbbea8c",
   "metadata": {},
   "outputs": [
    {
     "name": "stdout",
     "output_type": "stream",
     "text": [
      "  4/243 [..............................] - ETA: 5s "
     ]
    },
    {
     "name": "stderr",
     "output_type": "stream",
     "text": [
      "2024-06-03 06:19:11.859095: I tensorflow/core/common_runtime/executor.cc:1197] [/device:CPU:0] (DEBUG INFO) Executor start aborting (this does not indicate an error and you can ignore this message): INVALID_ARGUMENT: You must feed a value for placeholder tensor 'Placeholder/_0' with dtype int32\n",
      "\t [[{{node Placeholder/_0}}]]\n"
     ]
    },
    {
     "name": "stdout",
     "output_type": "stream",
     "text": [
      "243/243 [==============================] - 5s 20ms/step\n"
     ]
    },
    {
     "data": {
      "image/png": "[encoded data removed]",
      "text/plain": [
       "<Figure size 1000x800 with 2 Axes>"
      ]
     },
     "metadata": {},
     "output_type": "display_data"
    },
    {
     "name": "stdout",
     "output_type": "stream",
     "text": [
      "Classification Report\n",
      "\n",
      "              precision    recall  f1-score   support\n",
      "\n",
      "        land       0.99      1.00      1.00      1211\n",
      "    not_land       1.00      0.99      1.00      1210\n",
      "\n",
      "    accuracy                           1.00      2421\n",
      "   macro avg       1.00      1.00      1.00      2421\n",
      "weighted avg       1.00      1.00      1.00      2421\n",
      "\n"
     ]
    }
   ],
   "source": [
    "num_classes = len(train_batches.class_indices)  \n",
    "train_labels = train_batches.classes \n",
    "train_labels = to_categorical(train_labels, num_classes=num_classes)\n",
    "valid_labels = validation_batches.classes \n",
    "valid_labels = to_categorical(valid_labels, num_classes=num_classes)\n",
    "nb_train_samples = len(train_batches.filenames)  \n",
    "nb_valid_samples = len(validation_batches.filenames)\n",
    "nb_test_samples = len(test_batches.filenames)\n",
    "Y_pred = model.predict(test_batches, nb_test_samples // BATCH_SIZE+1)\n",
    "y_pred = np.argmax(Y_pred, axis=1)\n",
    "cm = confusion_matrix(test_batches.classes, y_pred)\n",
    "df_cm = pd.DataFrame(cm, list(test_batches.class_indices.keys()), list(test_batches.class_indices.keys()))\n",
    "fig, ax = plt.subplots(figsize=(10,8))\n",
    "sn.set(font_scale=1.4) # for label size\n",
    "sn.heatmap(df_cm, annot=True, annot_kws={\"size\": 16}, cmap=plt.cm.Reds)\n",
    "plt.title('Confusion Matrix\\n')\n",
    "plt.savefig('confusion_matrix.png', transparent= False, bbox_inches= 'tight', dpi= 400)\n",
    "plt.show()\n",
    "\n",
    "print('Classification Report\\n')\n",
    "target_names = list(test_batches.class_indices.keys())\n",
    "print(classification_report(test_batches.classes, y_pred, target_names=target_names))"
   ]
  },
  {
   "cell_type": "code",
   "execution_count": null,
   "id": "cba5d033-c928-43a0-9092-0df0c34d54cb",
   "metadata": {},
   "outputs": [],
   "source": []
  }
 ],
 "metadata": {
  "kernelspec": {
   "display_name": "Python 3 (ipykernel)",
   "language": "python",
   "name": "python3"
  },
  "language_info": {
   "codemirror_mode": {
    "name": "ipython",
    "version": 3
   },
   "file_extension": ".py",
   "mimetype": "text/x-python",
   "name": "python",
   "nbconvert_exporter": "python",
   "pygments_lexer": "ipython3",
   "version": "3.11.5"
  }
 },
 "nbformat": 4,
 "nbformat_minor": 5
}
